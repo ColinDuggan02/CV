{
 "cells": [
  {
   "cell_type": "code",
   "execution_count": null,
   "id": "fa8a17ad",
   "metadata": {
    "slideshow": {
     "slide_type": "slide"
    }
   },
   "outputs": [],
   "source": [
    "Colin Duggan\n",
    "3022 SMU Blvd · Dallas, TX 75275 · (650-223-9855) \n",
    "cwduggan@smu.edu · https://www.linkedin.com/in/colin-duggan"
   ]
  },
  {
   "cell_type": "code",
   "execution_count": null,
   "id": "d10c6413",
   "metadata": {
    "slideshow": {
     "slide_type": "slide"
    }
   },
   "outputs": [],
   "source": [
    "### EDUCATION \n",
    "Southern Methodist University, Dedman College of Humanities and Sciences                                      Dallas, TX\n",
    "Bachelor of Science, Major in Economics\t                                 \t\t\t          Expected May 2024\n",
    "•\tCumulative GPA: 3.347/4.0\n",
    "Universidad de Sevilla/ GlobalEd Study Abroad\t\t\t\t\t\t      Seville, Spain\n",
    "Concentration on Community and Conversation                                                                       June 2022 – July 2022 \n",
    "•\tTopics include Spanish history and culture"
   ]
  },
  {
   "cell_type": "markdown",
   "id": "ddc414e1-3672-436e-87f3-9c2c4b0c876f",
   "metadata": {
    "slideshow": {
     "slide_type": "slide"
    }
   },
   "source": [
    "### EXPERIENCE\n",
    "La Vegana\t\t\t\t\t\t\t\t\t\t\t      Seville, Spain\n",
    "Accounting Systems Modernization Intern\t\t\t\t\t\t      June 2022 – July 2022\n",
    "•\tProcessed invoices and configured recurring invoices\n",
    "•\tProficient in use of international expense application, SumUp\n",
    "Kappa Sigma Fraternity\t\t\t\t\t\t\t\t\t            Dallas, TX\n",
    "Grand Master of Ceremonies\t\t\t\t\t\t\t\t         April 2022 – Present\n",
    "•\tResponsible for membership development, including the pledge program\n",
    "•\tOversee alumni relations and organized alumni events\n",
    "Luna On-Demand Physical Therapy \t                                                                                                  Palo Alto, CA\n",
    "Market Development\t                                                                                                              May 2019 – Aug 2019\n",
    "•\tResponsible for physician awareness and acquisition\n",
    "•\tParticipated and contributed to the culture and pace of a Silicon Valley start up\n",
    "Robotics Independent Team (First Robotics Organization)                                                                 Palo Alto, CA\n",
    "Fabricator, Grant Outreach, and Drive Team\t                                             \t                   Sept 2018 – May 2019\n",
    "•\tIndependent team that finished first out of all independent competitors\n",
    "•\tResponsible for fabrication, grant outreach, and coaching the drive team\n",
    "Palo Alto Little League\t\t\t\t   \t                                                                        Palo Alto, CA\n",
    " Assistant Coach\t                                                                                                                Apr 2016 – Apr 2019\n",
    "•\t Assisted Babe Ruth and Little League head coaches and teams in practices/games\n",
    " New Umpire Training Leader\t                                                                                                     Apr 2017 – Jul 2017\n",
    "•\tChosen to lead educational meetings to teach youth about umpiring\n",
    "•\tInstructed youth on umpiring, procedures, rules, how to manage the game, and leadership"
   ]
  },
  {
   "cell_type": "code",
   "execution_count": 2,
   "id": "40e78007-f8b0-4261-a822-534d3ef52485",
   "metadata": {
    "slideshow": {
     "slide_type": "slide"
    }
   },
   "outputs": [
    {
     "ename": "SyntaxError",
     "evalue": "invalid syntax (3132722004.py, line 1)",
     "output_type": "error",
     "traceback": [
      "\u001b[0;36m  Input \u001b[0;32mIn [2]\u001b[0;36m\u001b[0m\n\u001b[0;31m    Colin Duggan\u001b[0m\n\u001b[0m          ^\u001b[0m\n\u001b[0;31mSyntaxError\u001b[0m\u001b[0;31m:\u001b[0m invalid syntax\n"
     ]
    }
   ],
   "source": [
    "### ADDITIONAL INFORMATION\n",
    "Computer Skills: Microsoft Office (Excel, PowerPoint, Word), Google Docs/Sheets/Slides\n",
    "Languages: Working proficiency in Spanish\n",
    "Additional Activities: Bronze Medal President’s Volunteer Service Award 2018-2019 \n",
    "Interests: Golf, squash, scuba diving, and fishing"
   ]
  }
 ],
 "metadata": {
  "celltoolbar": "Slideshow",
  "kernelspec": {
   "display_name": "Python 3 (ipykernel)",
   "language": "python",
   "name": "python3"
  },
  "language_info": {
   "codemirror_mode": {
    "name": "ipython",
    "version": 3
   },
   "file_extension": ".py",
   "mimetype": "text/x-python",
   "name": "python",
   "nbconvert_exporter": "python",
   "pygments_lexer": "ipython3",
   "version": "3.9.13"
  }
 },
 "nbformat": 4,
 "nbformat_minor": 5
}
